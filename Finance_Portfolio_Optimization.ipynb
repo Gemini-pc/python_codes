{
  "nbformat": 4,
  "nbformat_minor": 0,
  "metadata": {
    "colab": {
      "name": "Finance_Portfolio_Optimization.ipynb",
      "provenance": [],
      "collapsed_sections": [],
      "authorship_tag": "ABX9TyPbbCD1UtQlOrdSgOLOT3cl",
      "include_colab_link": true
    },
    "kernelspec": {
      "name": "python3",
      "display_name": "Python 3"
    }
  },
  "cells": [
    {
      "cell_type": "markdown",
      "metadata": {
        "id": "view-in-github",
        "colab_type": "text"
      },
      "source": [
        "<a href=\"https://colab.research.google.com/github/ZioGuillo/python_codes/blob/main/Finance_Portfolio_Optimization.ipynb\" target=\"_parent\"><img src=\"https://colab.research.google.com/assets/colab-badge.svg\" alt=\"Open In Colab\"/></a>"
      ]
    },
    {
      "cell_type": "code",
      "metadata": {
        "id": "8SzN3tAP0Wdv"
      },
      "source": [
        "# Description: This program attempts to optimize a users portfolio using the Efficient Frontier & Python."
      ],
      "execution_count": null,
      "outputs": []
    },
    {
      "cell_type": "code",
      "metadata": {
        "id": "PMKudw030Z_L"
      },
      "source": [
        "# Import the python libraries\n",
        "from pandas_datareader import data as web\n",
        "import pandas as pd\n",
        "import numpy as np\n",
        "from datetime import datetime\n",
        "import matplotlib.pyplot as plt\n",
        "plt.style.use('fivethirtyeight')"
      ],
      "execution_count": 1,
      "outputs": []
    },
    {
      "cell_type": "code",
      "metadata": {
        "id": "q1VK0CyI0eRY"
      },
      "source": [
        "assets =  [\"FB\", \"AMZN\", \"AAPL\", \"NFLX\", \"NIO\", \"SPY\", \"TSLA\", \"QQQ\", \"SQQQ\", \"SNAP\", \"WM\", \"JNJ\", \"UNH\", \"LMT\", \"NVDA\"]"
      ],
      "execution_count": 47,
      "outputs": []
    },
    {
      "cell_type": "code",
      "metadata": {
        "id": "NiahzonO0-9c",
        "outputId": "5dedee40-302a-428f-ca9f-e5750023b036",
        "colab": {
          "base_uri": "https://localhost:8080/"
        }
      },
      "source": [
        "# Assign weights to the stocks. Weights must = 1 so 0.2 for each\n",
        "\n",
        "weights = np.array([0.06666666666666667, 0.06666666666666667, 0.06666666666666667, 0.06666666666666667, 0.06666666666666667, 0.06666666666666667, 0.06666666666666667, 0.06666666666666667, 0.06666666666666667, 0.06666666666666667, 0.06666666666666667, 0.06666666666666667, 0.06666666666666667, 0.06666666666666667, 0.06666666666666667])\n",
        "weights"
      ],
      "execution_count": 48,
      "outputs": [
        {
          "output_type": "execute_result",
          "data": {
            "text/plain": [
              "array([0.06666667, 0.06666667, 0.06666667, 0.06666667, 0.06666667,\n",
              "       0.06666667, 0.06666667, 0.06666667, 0.06666667, 0.06666667,\n",
              "       0.06666667, 0.06666667, 0.06666667, 0.06666667, 0.06666667])"
            ]
          },
          "metadata": {
            "tags": []
          },
          "execution_count": 48
        }
      ]
    },
    {
      "cell_type": "code",
      "metadata": {
        "id": "V6kayoZZ1WRL"
      },
      "source": [
        "#Get the stock starting date\n",
        "stockStartDate = '2013-01-01'\n",
        "# Get the stocks ending date aka todays date and format it in the form YYYY-MM-DD\n",
        "today = datetime.today().strftime('%Y-%m-%d')"
      ],
      "execution_count": 49,
      "outputs": []
    },
    {
      "cell_type": "code",
      "metadata": {
        "id": "qdsLWDXJ1cj7",
        "outputId": "8db5502b-c9b4-42e4-fe30-029ce8f456b2",
        "colab": {
          "base_uri": "https://localhost:8080/",
          "height": 450
        }
      },
      "source": [
        "#Create a dataframe to store the adjusted close price of the stocks\n",
        "df = pd.DataFrame()\n",
        "#Store the adjusted close price of stock into the data frame\n",
        "for stock in assets:\n",
        "   df[stock] = web.DataReader(stock,data_source='yahoo',start=stockStartDate , end=today)['Adj Close']\n",
        "\n",
        "df"
      ],
      "execution_count": 50,
      "outputs": [
        {
          "output_type": "execute_result",
          "data": {
            "text/html": [
              "<div>\n",
              "<style scoped>\n",
              "    .dataframe tbody tr th:only-of-type {\n",
              "        vertical-align: middle;\n",
              "    }\n",
              "\n",
              "    .dataframe tbody tr th {\n",
              "        vertical-align: top;\n",
              "    }\n",
              "\n",
              "    .dataframe thead th {\n",
              "        text-align: right;\n",
              "    }\n",
              "</style>\n",
              "<table border=\"1\" class=\"dataframe\">\n",
              "  <thead>\n",
              "    <tr style=\"text-align: right;\">\n",
              "      <th></th>\n",
              "      <th>FB</th>\n",
              "      <th>AMZN</th>\n",
              "      <th>AAPL</th>\n",
              "      <th>NFLX</th>\n",
              "      <th>NIO</th>\n",
              "      <th>SPY</th>\n",
              "      <th>TSLA</th>\n",
              "      <th>QQQ</th>\n",
              "      <th>SQQQ</th>\n",
              "      <th>SNAP</th>\n",
              "      <th>WM</th>\n",
              "      <th>JNJ</th>\n",
              "      <th>UNH</th>\n",
              "      <th>LMT</th>\n",
              "      <th>NVDA</th>\n",
              "    </tr>\n",
              "    <tr>\n",
              "      <th>Date</th>\n",
              "      <th></th>\n",
              "      <th></th>\n",
              "      <th></th>\n",
              "      <th></th>\n",
              "      <th></th>\n",
              "      <th></th>\n",
              "      <th></th>\n",
              "      <th></th>\n",
              "      <th></th>\n",
              "      <th></th>\n",
              "      <th></th>\n",
              "      <th></th>\n",
              "      <th></th>\n",
              "      <th></th>\n",
              "      <th></th>\n",
              "    </tr>\n",
              "  </thead>\n",
              "  <tbody>\n",
              "    <tr>\n",
              "      <th>2013-01-02</th>\n",
              "      <td>28.000000</td>\n",
              "      <td>257.309998</td>\n",
              "      <td>16.926661</td>\n",
              "      <td>13.144286</td>\n",
              "      <td>NaN</td>\n",
              "      <td>125.451904</td>\n",
              "      <td>7.072000</td>\n",
              "      <td>62.185093</td>\n",
              "      <td>11275.864258</td>\n",
              "      <td>NaN</td>\n",
              "      <td>27.778475</td>\n",
              "      <td>57.166523</td>\n",
              "      <td>47.993988</td>\n",
              "      <td>73.726242</td>\n",
              "      <td>11.773857</td>\n",
              "    </tr>\n",
              "    <tr>\n",
              "      <th>2013-01-03</th>\n",
              "      <td>27.770000</td>\n",
              "      <td>258.480011</td>\n",
              "      <td>16.713015</td>\n",
              "      <td>13.798572</td>\n",
              "      <td>NaN</td>\n",
              "      <td>125.168480</td>\n",
              "      <td>6.954000</td>\n",
              "      <td>61.861229</td>\n",
              "      <td>11444.892578</td>\n",
              "      <td>NaN</td>\n",
              "      <td>27.876596</td>\n",
              "      <td>57.085827</td>\n",
              "      <td>45.750046</td>\n",
              "      <td>73.947571</td>\n",
              "      <td>11.783113</td>\n",
              "    </tr>\n",
              "    <tr>\n",
              "      <th>2013-01-04</th>\n",
              "      <td>28.760000</td>\n",
              "      <td>259.149994</td>\n",
              "      <td>16.247477</td>\n",
              "      <td>13.711429</td>\n",
              "      <td>NaN</td>\n",
              "      <td>125.718124</td>\n",
              "      <td>6.880000</td>\n",
              "      <td>61.657635</td>\n",
              "      <td>11558.604492</td>\n",
              "      <td>NaN</td>\n",
              "      <td>27.868420</td>\n",
              "      <td>57.739479</td>\n",
              "      <td>45.838043</td>\n",
              "      <td>74.224213</td>\n",
              "      <td>12.171872</td>\n",
              "    </tr>\n",
              "    <tr>\n",
              "      <th>2013-01-07</th>\n",
              "      <td>29.420000</td>\n",
              "      <td>268.459991</td>\n",
              "      <td>16.151909</td>\n",
              "      <td>14.171429</td>\n",
              "      <td>NaN</td>\n",
              "      <td>125.374611</td>\n",
              "      <td>6.868000</td>\n",
              "      <td>61.676151</td>\n",
              "      <td>11537.091797</td>\n",
              "      <td>NaN</td>\n",
              "      <td>27.778475</td>\n",
              "      <td>57.618446</td>\n",
              "      <td>45.838043</td>\n",
              "      <td>74.477196</td>\n",
              "      <td>11.820140</td>\n",
              "    </tr>\n",
              "    <tr>\n",
              "      <th>2013-01-08</th>\n",
              "      <td>29.059999</td>\n",
              "      <td>266.380005</td>\n",
              "      <td>16.195379</td>\n",
              "      <td>13.880000</td>\n",
              "      <td>NaN</td>\n",
              "      <td>125.013870</td>\n",
              "      <td>6.736000</td>\n",
              "      <td>61.555851</td>\n",
              "      <td>11601.630859</td>\n",
              "      <td>NaN</td>\n",
              "      <td>27.835712</td>\n",
              "      <td>57.626511</td>\n",
              "      <td>45.230862</td>\n",
              "      <td>73.481194</td>\n",
              "      <td>11.560966</td>\n",
              "    </tr>\n",
              "    <tr>\n",
              "      <th>...</th>\n",
              "      <td>...</td>\n",
              "      <td>...</td>\n",
              "      <td>...</td>\n",
              "      <td>...</td>\n",
              "      <td>...</td>\n",
              "      <td>...</td>\n",
              "      <td>...</td>\n",
              "      <td>...</td>\n",
              "      <td>...</td>\n",
              "      <td>...</td>\n",
              "      <td>...</td>\n",
              "      <td>...</td>\n",
              "      <td>...</td>\n",
              "      <td>...</td>\n",
              "      <td>...</td>\n",
              "    </tr>\n",
              "    <tr>\n",
              "      <th>2020-11-05</th>\n",
              "      <td>294.679993</td>\n",
              "      <td>3322.000000</td>\n",
              "      <td>118.824997</td>\n",
              "      <td>513.760010</td>\n",
              "      <td>42.349998</td>\n",
              "      <td>350.239990</td>\n",
              "      <td>438.089996</td>\n",
              "      <td>294.390015</td>\n",
              "      <td>18.900000</td>\n",
              "      <td>41.549999</td>\n",
              "      <td>119.690002</td>\n",
              "      <td>139.759995</td>\n",
              "      <td>354.399994</td>\n",
              "      <td>364.700012</td>\n",
              "      <td>566.400024</td>\n",
              "    </tr>\n",
              "    <tr>\n",
              "      <th>2020-11-06</th>\n",
              "      <td>293.410004</td>\n",
              "      <td>3311.370117</td>\n",
              "      <td>118.690002</td>\n",
              "      <td>514.729980</td>\n",
              "      <td>41.630001</td>\n",
              "      <td>350.160004</td>\n",
              "      <td>429.950012</td>\n",
              "      <td>294.609985</td>\n",
              "      <td>18.830000</td>\n",
              "      <td>45.380001</td>\n",
              "      <td>119.279999</td>\n",
              "      <td>142.250000</td>\n",
              "      <td>347.459991</td>\n",
              "      <td>361.269989</td>\n",
              "      <td>582.479980</td>\n",
              "    </tr>\n",
              "    <tr>\n",
              "      <th>2020-11-09</th>\n",
              "      <td>278.769989</td>\n",
              "      <td>3143.739990</td>\n",
              "      <td>116.320000</td>\n",
              "      <td>470.500000</td>\n",
              "      <td>44.020000</td>\n",
              "      <td>354.559998</td>\n",
              "      <td>421.260010</td>\n",
              "      <td>288.589996</td>\n",
              "      <td>19.980000</td>\n",
              "      <td>41.099998</td>\n",
              "      <td>120.959999</td>\n",
              "      <td>146.080002</td>\n",
              "      <td>350.000000</td>\n",
              "      <td>363.950012</td>\n",
              "      <td>545.229980</td>\n",
              "    </tr>\n",
              "    <tr>\n",
              "      <th>2020-11-10</th>\n",
              "      <td>272.429993</td>\n",
              "      <td>3035.020020</td>\n",
              "      <td>115.970001</td>\n",
              "      <td>480.239990</td>\n",
              "      <td>41.549999</td>\n",
              "      <td>354.040009</td>\n",
              "      <td>410.359985</td>\n",
              "      <td>283.420013</td>\n",
              "      <td>21.040001</td>\n",
              "      <td>38.540001</td>\n",
              "      <td>123.379997</td>\n",
              "      <td>148.279999</td>\n",
              "      <td>353.690002</td>\n",
              "      <td>371.279999</td>\n",
              "      <td>510.799988</td>\n",
              "    </tr>\n",
              "    <tr>\n",
              "      <th>2020-11-11</th>\n",
              "      <td>276.480011</td>\n",
              "      <td>3137.389893</td>\n",
              "      <td>119.489998</td>\n",
              "      <td>490.760010</td>\n",
              "      <td>43.080002</td>\n",
              "      <td>356.670013</td>\n",
              "      <td>417.130005</td>\n",
              "      <td>289.760010</td>\n",
              "      <td>19.639999</td>\n",
              "      <td>38.459999</td>\n",
              "      <td>122.800003</td>\n",
              "      <td>147.800003</td>\n",
              "      <td>351.700012</td>\n",
              "      <td>369.279999</td>\n",
              "      <td>536.719971</td>\n",
              "    </tr>\n",
              "  </tbody>\n",
              "</table>\n",
              "<p>1981 rows × 15 columns</p>\n",
              "</div>"
            ],
            "text/plain": [
              "                    FB         AMZN  ...         LMT        NVDA\n",
              "Date                                 ...                        \n",
              "2013-01-02   28.000000   257.309998  ...   73.726242   11.773857\n",
              "2013-01-03   27.770000   258.480011  ...   73.947571   11.783113\n",
              "2013-01-04   28.760000   259.149994  ...   74.224213   12.171872\n",
              "2013-01-07   29.420000   268.459991  ...   74.477196   11.820140\n",
              "2013-01-08   29.059999   266.380005  ...   73.481194   11.560966\n",
              "...                ...          ...  ...         ...         ...\n",
              "2020-11-05  294.679993  3322.000000  ...  364.700012  566.400024\n",
              "2020-11-06  293.410004  3311.370117  ...  361.269989  582.479980\n",
              "2020-11-09  278.769989  3143.739990  ...  363.950012  545.229980\n",
              "2020-11-10  272.429993  3035.020020  ...  371.279999  510.799988\n",
              "2020-11-11  276.480011  3137.389893  ...  369.279999  536.719971\n",
              "\n",
              "[1981 rows x 15 columns]"
            ]
          },
          "metadata": {
            "tags": []
          },
          "execution_count": 50
        }
      ]
    },
    {
      "cell_type": "code",
      "metadata": {
        "id": "xbeF-0c41u-B",
        "outputId": "51e88671-bb00-4514-e95a-8acf0a7f262a",
        "colab": {
          "base_uri": "https://localhost:8080/",
          "height": 328
        }
      },
      "source": [
        "# Create the title 'Portfolio Adj Close Price History\n",
        "title = 'Portfolio Adj. Close Price History    '\n",
        "#Get the stocks\n",
        "my_stocks = df\n",
        "#Create and plot the graph\n",
        "plt.figure(figsize=(12.2,4.5)) #width = 12.2in, height = 4.5\n",
        "# Loop through each stock and plot the Adj Close for each day\n",
        "for c in my_stocks.columns.values:\n",
        "  plt.plot( my_stocks[c],  label=c)#plt.plot( X-Axis , Y-Axis, line_width, alpha_for_blending,  label)\n",
        "plt.title(title)\n",
        "plt.xlabel('Date',fontsize=18)\n",
        "plt.ylabel('Adj. Price USD ($)',fontsize=18)\n",
        "plt.legend(my_stocks.columns.values, loc='upper left')\n",
        "plt.show()"
      ],
      "execution_count": 51,
      "outputs": [
        {
          "output_type": "display_data",
          "data": {
            "image/png": "[encoded data removed]",
            "text/plain": [
              "<Figure size 878.4x324 with 1 Axes>"
            ]
          },
          "metadata": {
            "tags": [],
            "needs_background": "light"
          }
        }
      ]
    },
    {
      "cell_type": "code",
      "metadata": {
        "id": "DEayTWpG18g9",
        "outputId": "feed9a76-e6b4-49a9-d88c-16200b4ab1a2",
        "colab": {
          "base_uri": "https://localhost:8080/",
          "height": 450
        }
      },
      "source": [
        "#Show the daily simple returns, NOTE: Formula = new_price/old_price - 1\n",
        "returns = df.pct_change()\n",
        "returns"
      ],
      "execution_count": 52,
      "outputs": [
        {
          "output_type": "execute_result",
          "data": {
            "text/html": [
              "<div>\n",
              "<style scoped>\n",
              "    .dataframe tbody tr th:only-of-type {\n",
              "        vertical-align: middle;\n",
              "    }\n",
              "\n",
              "    .dataframe tbody tr th {\n",
              "        vertical-align: top;\n",
              "    }\n",
              "\n",
              "    .dataframe thead th {\n",
              "        text-align: right;\n",
              "    }\n",
              "</style>\n",
              "<table border=\"1\" class=\"dataframe\">\n",
              "  <thead>\n",
              "    <tr style=\"text-align: right;\">\n",
              "      <th></th>\n",
              "      <th>FB</th>\n",
              "      <th>AMZN</th>\n",
              "      <th>AAPL</th>\n",
              "      <th>NFLX</th>\n",
              "      <th>NIO</th>\n",
              "      <th>SPY</th>\n",
              "      <th>TSLA</th>\n",
              "      <th>QQQ</th>\n",
              "      <th>SQQQ</th>\n",
              "      <th>SNAP</th>\n",
              "      <th>WM</th>\n",
              "      <th>JNJ</th>\n",
              "      <th>UNH</th>\n",
              "      <th>LMT</th>\n",
              "      <th>NVDA</th>\n",
              "    </tr>\n",
              "    <tr>\n",
              "      <th>Date</th>\n",
              "      <th></th>\n",
              "      <th></th>\n",
              "      <th></th>\n",
              "      <th></th>\n",
              "      <th></th>\n",
              "      <th></th>\n",
              "      <th></th>\n",
              "      <th></th>\n",
              "      <th></th>\n",
              "      <th></th>\n",
              "      <th></th>\n",
              "      <th></th>\n",
              "      <th></th>\n",
              "      <th></th>\n",
              "      <th></th>\n",
              "    </tr>\n",
              "  </thead>\n",
              "  <tbody>\n",
              "    <tr>\n",
              "      <th>2013-01-02</th>\n",
              "      <td>NaN</td>\n",
              "      <td>NaN</td>\n",
              "      <td>NaN</td>\n",
              "      <td>NaN</td>\n",
              "      <td>NaN</td>\n",
              "      <td>NaN</td>\n",
              "      <td>NaN</td>\n",
              "      <td>NaN</td>\n",
              "      <td>NaN</td>\n",
              "      <td>NaN</td>\n",
              "      <td>NaN</td>\n",
              "      <td>NaN</td>\n",
              "      <td>NaN</td>\n",
              "      <td>NaN</td>\n",
              "      <td>NaN</td>\n",
              "    </tr>\n",
              "    <tr>\n",
              "      <th>2013-01-03</th>\n",
              "      <td>-0.008214</td>\n",
              "      <td>0.004547</td>\n",
              "      <td>-0.012622</td>\n",
              "      <td>0.049777</td>\n",
              "      <td>NaN</td>\n",
              "      <td>-0.002259</td>\n",
              "      <td>-0.016686</td>\n",
              "      <td>-0.005208</td>\n",
              "      <td>0.014990</td>\n",
              "      <td>NaN</td>\n",
              "      <td>0.003532</td>\n",
              "      <td>-0.001412</td>\n",
              "      <td>-0.046755</td>\n",
              "      <td>0.003002</td>\n",
              "      <td>0.000786</td>\n",
              "    </tr>\n",
              "    <tr>\n",
              "      <th>2013-01-04</th>\n",
              "      <td>0.035650</td>\n",
              "      <td>0.002592</td>\n",
              "      <td>-0.027855</td>\n",
              "      <td>-0.006315</td>\n",
              "      <td>NaN</td>\n",
              "      <td>0.004391</td>\n",
              "      <td>-0.010641</td>\n",
              "      <td>-0.003291</td>\n",
              "      <td>0.009936</td>\n",
              "      <td>NaN</td>\n",
              "      <td>-0.000293</td>\n",
              "      <td>0.011450</td>\n",
              "      <td>0.001923</td>\n",
              "      <td>0.003741</td>\n",
              "      <td>0.032993</td>\n",
              "    </tr>\n",
              "    <tr>\n",
              "      <th>2013-01-07</th>\n",
              "      <td>0.022949</td>\n",
              "      <td>0.035925</td>\n",
              "      <td>-0.005882</td>\n",
              "      <td>0.033549</td>\n",
              "      <td>NaN</td>\n",
              "      <td>-0.002732</td>\n",
              "      <td>-0.001744</td>\n",
              "      <td>0.000300</td>\n",
              "      <td>-0.001861</td>\n",
              "      <td>NaN</td>\n",
              "      <td>-0.003227</td>\n",
              "      <td>-0.002096</td>\n",
              "      <td>0.000000</td>\n",
              "      <td>0.003408</td>\n",
              "      <td>-0.028897</td>\n",
              "    </tr>\n",
              "    <tr>\n",
              "      <th>2013-01-08</th>\n",
              "      <td>-0.012237</td>\n",
              "      <td>-0.007748</td>\n",
              "      <td>0.002691</td>\n",
              "      <td>-0.020565</td>\n",
              "      <td>NaN</td>\n",
              "      <td>-0.002877</td>\n",
              "      <td>-0.019220</td>\n",
              "      <td>-0.001951</td>\n",
              "      <td>0.005594</td>\n",
              "      <td>NaN</td>\n",
              "      <td>0.002061</td>\n",
              "      <td>0.000140</td>\n",
              "      <td>-0.013246</td>\n",
              "      <td>-0.013373</td>\n",
              "      <td>-0.021926</td>\n",
              "    </tr>\n",
              "    <tr>\n",
              "      <th>...</th>\n",
              "      <td>...</td>\n",
              "      <td>...</td>\n",
              "      <td>...</td>\n",
              "      <td>...</td>\n",
              "      <td>...</td>\n",
              "      <td>...</td>\n",
              "      <td>...</td>\n",
              "      <td>...</td>\n",
              "      <td>...</td>\n",
              "      <td>...</td>\n",
              "      <td>...</td>\n",
              "      <td>...</td>\n",
              "      <td>...</td>\n",
              "      <td>...</td>\n",
              "      <td>...</td>\n",
              "    </tr>\n",
              "    <tr>\n",
              "      <th>2020-11-05</th>\n",
              "      <td>0.025402</td>\n",
              "      <td>0.024942</td>\n",
              "      <td>0.035494</td>\n",
              "      <td>0.033826</td>\n",
              "      <td>0.123044</td>\n",
              "      <td>0.019503</td>\n",
              "      <td>0.040643</td>\n",
              "      <td>0.026071</td>\n",
              "      <td>-0.077148</td>\n",
              "      <td>-0.010479</td>\n",
              "      <td>0.031366</td>\n",
              "      <td>0.002583</td>\n",
              "      <td>-0.000451</td>\n",
              "      <td>-0.020045</td>\n",
              "      <td>0.026515</td>\n",
              "    </tr>\n",
              "    <tr>\n",
              "      <th>2020-11-06</th>\n",
              "      <td>-0.004310</td>\n",
              "      <td>-0.003200</td>\n",
              "      <td>-0.001136</td>\n",
              "      <td>0.001888</td>\n",
              "      <td>-0.017001</td>\n",
              "      <td>-0.000228</td>\n",
              "      <td>-0.018581</td>\n",
              "      <td>0.000747</td>\n",
              "      <td>-0.003704</td>\n",
              "      <td>0.092178</td>\n",
              "      <td>-0.003426</td>\n",
              "      <td>0.017816</td>\n",
              "      <td>-0.019582</td>\n",
              "      <td>-0.009405</td>\n",
              "      <td>0.028390</td>\n",
              "    </tr>\n",
              "    <tr>\n",
              "      <th>2020-11-09</th>\n",
              "      <td>-0.049896</td>\n",
              "      <td>-0.050623</td>\n",
              "      <td>-0.019968</td>\n",
              "      <td>-0.085929</td>\n",
              "      <td>0.057411</td>\n",
              "      <td>0.012566</td>\n",
              "      <td>-0.020212</td>\n",
              "      <td>-0.020434</td>\n",
              "      <td>0.061073</td>\n",
              "      <td>-0.094315</td>\n",
              "      <td>0.014085</td>\n",
              "      <td>0.026924</td>\n",
              "      <td>0.007310</td>\n",
              "      <td>0.007418</td>\n",
              "      <td>-0.063951</td>\n",
              "    </tr>\n",
              "    <tr>\n",
              "      <th>2020-11-10</th>\n",
              "      <td>-0.022743</td>\n",
              "      <td>-0.034583</td>\n",
              "      <td>-0.003009</td>\n",
              "      <td>0.020701</td>\n",
              "      <td>-0.056111</td>\n",
              "      <td>-0.001467</td>\n",
              "      <td>-0.025875</td>\n",
              "      <td>-0.017915</td>\n",
              "      <td>0.053053</td>\n",
              "      <td>-0.062287</td>\n",
              "      <td>0.020007</td>\n",
              "      <td>0.015060</td>\n",
              "      <td>0.010543</td>\n",
              "      <td>0.020140</td>\n",
              "      <td>-0.063148</td>\n",
              "    </tr>\n",
              "    <tr>\n",
              "      <th>2020-11-11</th>\n",
              "      <td>0.014866</td>\n",
              "      <td>0.033730</td>\n",
              "      <td>0.030353</td>\n",
              "      <td>0.021906</td>\n",
              "      <td>0.036823</td>\n",
              "      <td>0.007429</td>\n",
              "      <td>0.016498</td>\n",
              "      <td>0.022370</td>\n",
              "      <td>-0.066540</td>\n",
              "      <td>-0.002076</td>\n",
              "      <td>-0.004701</td>\n",
              "      <td>-0.003237</td>\n",
              "      <td>-0.005626</td>\n",
              "      <td>-0.005387</td>\n",
              "      <td>0.050744</td>\n",
              "    </tr>\n",
              "  </tbody>\n",
              "</table>\n",
              "<p>1981 rows × 15 columns</p>\n",
              "</div>"
            ],
            "text/plain": [
              "                  FB      AMZN      AAPL  ...       UNH       LMT      NVDA\n",
              "Date                                      ...                              \n",
              "2013-01-02       NaN       NaN       NaN  ...       NaN       NaN       NaN\n",
              "2013-01-03 -0.008214  0.004547 -0.012622  ... -0.046755  0.003002  0.000786\n",
              "2013-01-04  0.035650  0.002592 -0.027855  ...  0.001923  0.003741  0.032993\n",
              "2013-01-07  0.022949  0.035925 -0.005882  ...  0.000000  0.003408 -0.028897\n",
              "2013-01-08 -0.012237 -0.007748  0.002691  ... -0.013246 -0.013373 -0.021926\n",
              "...              ...       ...       ...  ...       ...       ...       ...\n",
              "2020-11-05  0.025402  0.024942  0.035494  ... -0.000451 -0.020045  0.026515\n",
              "2020-11-06 -0.004310 -0.003200 -0.001136  ... -0.019582 -0.009405  0.028390\n",
              "2020-11-09 -0.049896 -0.050623 -0.019968  ...  0.007310  0.007418 -0.063951\n",
              "2020-11-10 -0.022743 -0.034583 -0.003009  ...  0.010543  0.020140 -0.063148\n",
              "2020-11-11  0.014866  0.033730  0.030353  ... -0.005626 -0.005387  0.050744\n",
              "\n",
              "[1981 rows x 15 columns]"
            ]
          },
          "metadata": {
            "tags": []
          },
          "execution_count": 52
        }
      ]
    },
    {
      "cell_type": "code",
      "metadata": {
        "id": "b-11yDPT2C53",
        "outputId": "635da2f0-d7f4-49d7-eae6-68735b1caba3",
        "colab": {
          "base_uri": "https://localhost:8080/",
          "height": 514
        }
      },
      "source": [
        "cov_matrix_annual = returns.cov() * 252\n",
        "cov_matrix_annual"
      ],
      "execution_count": 53,
      "outputs": [
        {
          "output_type": "execute_result",
          "data": {
            "text/html": [
              "<div>\n",
              "<style scoped>\n",
              "    .dataframe tbody tr th:only-of-type {\n",
              "        vertical-align: middle;\n",
              "    }\n",
              "\n",
              "    .dataframe tbody tr th {\n",
              "        vertical-align: top;\n",
              "    }\n",
              "\n",
              "    .dataframe thead th {\n",
              "        text-align: right;\n",
              "    }\n",
              "</style>\n",
              "<table border=\"1\" class=\"dataframe\">\n",
              "  <thead>\n",
              "    <tr style=\"text-align: right;\">\n",
              "      <th></th>\n",
              "      <th>FB</th>\n",
              "      <th>AMZN</th>\n",
              "      <th>AAPL</th>\n",
              "      <th>NFLX</th>\n",
              "      <th>NIO</th>\n",
              "      <th>SPY</th>\n",
              "      <th>TSLA</th>\n",
              "      <th>QQQ</th>\n",
              "      <th>SQQQ</th>\n",
              "      <th>SNAP</th>\n",
              "      <th>WM</th>\n",
              "      <th>JNJ</th>\n",
              "      <th>UNH</th>\n",
              "      <th>LMT</th>\n",
              "      <th>NVDA</th>\n",
              "    </tr>\n",
              "  </thead>\n",
              "  <tbody>\n",
              "    <tr>\n",
              "      <th>FB</th>\n",
              "      <td>0.119920</td>\n",
              "      <td>0.055691</td>\n",
              "      <td>0.045128</td>\n",
              "      <td>0.057143</td>\n",
              "      <td>0.096334</td>\n",
              "      <td>0.031975</td>\n",
              "      <td>0.058658</td>\n",
              "      <td>0.044235</td>\n",
              "      <td>-0.131630</td>\n",
              "      <td>0.074134</td>\n",
              "      <td>0.018984</td>\n",
              "      <td>0.018577</td>\n",
              "      <td>0.030726</td>\n",
              "      <td>0.021553</td>\n",
              "      <td>0.059114</td>\n",
              "    </tr>\n",
              "    <tr>\n",
              "      <th>AMZN</th>\n",
              "      <td>0.055691</td>\n",
              "      <td>0.095216</td>\n",
              "      <td>0.040191</td>\n",
              "      <td>0.064078</td>\n",
              "      <td>0.094169</td>\n",
              "      <td>0.029232</td>\n",
              "      <td>0.057555</td>\n",
              "      <td>0.042519</td>\n",
              "      <td>-0.126311</td>\n",
              "      <td>0.057516</td>\n",
              "      <td>0.015930</td>\n",
              "      <td>0.017604</td>\n",
              "      <td>0.027121</td>\n",
              "      <td>0.018683</td>\n",
              "      <td>0.056164</td>\n",
              "    </tr>\n",
              "    <tr>\n",
              "      <th>AAPL</th>\n",
              "      <td>0.045128</td>\n",
              "      <td>0.040191</td>\n",
              "      <td>0.082065</td>\n",
              "      <td>0.035323</td>\n",
              "      <td>0.106313</td>\n",
              "      <td>0.032699</td>\n",
              "      <td>0.050954</td>\n",
              "      <td>0.043533</td>\n",
              "      <td>-0.129142</td>\n",
              "      <td>0.053397</td>\n",
              "      <td>0.020341</td>\n",
              "      <td>0.019520</td>\n",
              "      <td>0.031963</td>\n",
              "      <td>0.023686</td>\n",
              "      <td>0.058257</td>\n",
              "    </tr>\n",
              "    <tr>\n",
              "      <th>NFLX</th>\n",
              "      <td>0.057143</td>\n",
              "      <td>0.064078</td>\n",
              "      <td>0.035323</td>\n",
              "      <td>0.213300</td>\n",
              "      <td>0.093383</td>\n",
              "      <td>0.030787</td>\n",
              "      <td>0.074734</td>\n",
              "      <td>0.043691</td>\n",
              "      <td>-0.129656</td>\n",
              "      <td>0.052641</td>\n",
              "      <td>0.015861</td>\n",
              "      <td>0.016295</td>\n",
              "      <td>0.030143</td>\n",
              "      <td>0.018477</td>\n",
              "      <td>0.065083</td>\n",
              "    </tr>\n",
              "    <tr>\n",
              "      <th>NIO</th>\n",
              "      <td>0.096334</td>\n",
              "      <td>0.094169</td>\n",
              "      <td>0.106313</td>\n",
              "      <td>0.093383</td>\n",
              "      <td>1.327664</td>\n",
              "      <td>0.070008</td>\n",
              "      <td>0.205355</td>\n",
              "      <td>0.088047</td>\n",
              "      <td>-0.259982</td>\n",
              "      <td>0.097013</td>\n",
              "      <td>0.028339</td>\n",
              "      <td>0.031930</td>\n",
              "      <td>0.068545</td>\n",
              "      <td>0.032828</td>\n",
              "      <td>0.126032</td>\n",
              "    </tr>\n",
              "    <tr>\n",
              "      <th>SPY</th>\n",
              "      <td>0.031975</td>\n",
              "      <td>0.029232</td>\n",
              "      <td>0.032699</td>\n",
              "      <td>0.030787</td>\n",
              "      <td>0.070008</td>\n",
              "      <td>0.028532</td>\n",
              "      <td>0.037533</td>\n",
              "      <td>0.030824</td>\n",
              "      <td>-0.091112</td>\n",
              "      <td>0.045127</td>\n",
              "      <td>0.020725</td>\n",
              "      <td>0.020156</td>\n",
              "      <td>0.029732</td>\n",
              "      <td>0.023578</td>\n",
              "      <td>0.041881</td>\n",
              "    </tr>\n",
              "    <tr>\n",
              "      <th>TSLA</th>\n",
              "      <td>0.058658</td>\n",
              "      <td>0.057555</td>\n",
              "      <td>0.050954</td>\n",
              "      <td>0.074734</td>\n",
              "      <td>0.205355</td>\n",
              "      <td>0.037533</td>\n",
              "      <td>0.312897</td>\n",
              "      <td>0.050316</td>\n",
              "      <td>-0.148942</td>\n",
              "      <td>0.091878</td>\n",
              "      <td>0.018413</td>\n",
              "      <td>0.017719</td>\n",
              "      <td>0.033688</td>\n",
              "      <td>0.018965</td>\n",
              "      <td>0.073641</td>\n",
              "    </tr>\n",
              "    <tr>\n",
              "      <th>QQQ</th>\n",
              "      <td>0.044235</td>\n",
              "      <td>0.042519</td>\n",
              "      <td>0.043533</td>\n",
              "      <td>0.043691</td>\n",
              "      <td>0.088047</td>\n",
              "      <td>0.030824</td>\n",
              "      <td>0.050316</td>\n",
              "      <td>0.038890</td>\n",
              "      <td>-0.114966</td>\n",
              "      <td>0.055927</td>\n",
              "      <td>0.019984</td>\n",
              "      <td>0.020246</td>\n",
              "      <td>0.030697</td>\n",
              "      <td>0.023320</td>\n",
              "      <td>0.054886</td>\n",
              "    </tr>\n",
              "    <tr>\n",
              "      <th>SQQQ</th>\n",
              "      <td>-0.131630</td>\n",
              "      <td>-0.126311</td>\n",
              "      <td>-0.129142</td>\n",
              "      <td>-0.129656</td>\n",
              "      <td>-0.259982</td>\n",
              "      <td>-0.091112</td>\n",
              "      <td>-0.148942</td>\n",
              "      <td>-0.114966</td>\n",
              "      <td>0.340896</td>\n",
              "      <td>-0.165484</td>\n",
              "      <td>-0.058921</td>\n",
              "      <td>-0.059730</td>\n",
              "      <td>-0.090455</td>\n",
              "      <td>-0.068622</td>\n",
              "      <td>-0.162323</td>\n",
              "    </tr>\n",
              "    <tr>\n",
              "      <th>SNAP</th>\n",
              "      <td>0.074134</td>\n",
              "      <td>0.057516</td>\n",
              "      <td>0.053397</td>\n",
              "      <td>0.052641</td>\n",
              "      <td>0.097013</td>\n",
              "      <td>0.045127</td>\n",
              "      <td>0.091878</td>\n",
              "      <td>0.055927</td>\n",
              "      <td>-0.165484</td>\n",
              "      <td>0.454410</td>\n",
              "      <td>0.025852</td>\n",
              "      <td>0.020235</td>\n",
              "      <td>0.036620</td>\n",
              "      <td>0.035333</td>\n",
              "      <td>0.104290</td>\n",
              "    </tr>\n",
              "    <tr>\n",
              "      <th>WM</th>\n",
              "      <td>0.018984</td>\n",
              "      <td>0.015930</td>\n",
              "      <td>0.020341</td>\n",
              "      <td>0.015861</td>\n",
              "      <td>0.028339</td>\n",
              "      <td>0.020725</td>\n",
              "      <td>0.018413</td>\n",
              "      <td>0.019984</td>\n",
              "      <td>-0.058921</td>\n",
              "      <td>0.025852</td>\n",
              "      <td>0.033655</td>\n",
              "      <td>0.017207</td>\n",
              "      <td>0.023317</td>\n",
              "      <td>0.021480</td>\n",
              "      <td>0.025080</td>\n",
              "    </tr>\n",
              "    <tr>\n",
              "      <th>JNJ</th>\n",
              "      <td>0.018577</td>\n",
              "      <td>0.017604</td>\n",
              "      <td>0.019520</td>\n",
              "      <td>0.016295</td>\n",
              "      <td>0.031930</td>\n",
              "      <td>0.020156</td>\n",
              "      <td>0.017719</td>\n",
              "      <td>0.020246</td>\n",
              "      <td>-0.059730</td>\n",
              "      <td>0.020235</td>\n",
              "      <td>0.017207</td>\n",
              "      <td>0.032798</td>\n",
              "      <td>0.023870</td>\n",
              "      <td>0.019495</td>\n",
              "      <td>0.023058</td>\n",
              "    </tr>\n",
              "    <tr>\n",
              "      <th>UNH</th>\n",
              "      <td>0.030726</td>\n",
              "      <td>0.027121</td>\n",
              "      <td>0.031963</td>\n",
              "      <td>0.030143</td>\n",
              "      <td>0.068545</td>\n",
              "      <td>0.029732</td>\n",
              "      <td>0.033688</td>\n",
              "      <td>0.030697</td>\n",
              "      <td>-0.090455</td>\n",
              "      <td>0.036620</td>\n",
              "      <td>0.023317</td>\n",
              "      <td>0.023870</td>\n",
              "      <td>0.069039</td>\n",
              "      <td>0.025848</td>\n",
              "      <td>0.040951</td>\n",
              "    </tr>\n",
              "    <tr>\n",
              "      <th>LMT</th>\n",
              "      <td>0.021553</td>\n",
              "      <td>0.018683</td>\n",
              "      <td>0.023686</td>\n",
              "      <td>0.018477</td>\n",
              "      <td>0.032828</td>\n",
              "      <td>0.023578</td>\n",
              "      <td>0.018965</td>\n",
              "      <td>0.023320</td>\n",
              "      <td>-0.068622</td>\n",
              "      <td>0.035333</td>\n",
              "      <td>0.021480</td>\n",
              "      <td>0.019495</td>\n",
              "      <td>0.025848</td>\n",
              "      <td>0.047867</td>\n",
              "      <td>0.030337</td>\n",
              "    </tr>\n",
              "    <tr>\n",
              "      <th>NVDA</th>\n",
              "      <td>0.059114</td>\n",
              "      <td>0.056164</td>\n",
              "      <td>0.058257</td>\n",
              "      <td>0.065083</td>\n",
              "      <td>0.126032</td>\n",
              "      <td>0.041881</td>\n",
              "      <td>0.073641</td>\n",
              "      <td>0.054886</td>\n",
              "      <td>-0.162323</td>\n",
              "      <td>0.104290</td>\n",
              "      <td>0.025080</td>\n",
              "      <td>0.023058</td>\n",
              "      <td>0.040951</td>\n",
              "      <td>0.030337</td>\n",
              "      <td>0.171741</td>\n",
              "    </tr>\n",
              "  </tbody>\n",
              "</table>\n",
              "</div>"
            ],
            "text/plain": [
              "            FB      AMZN      AAPL  ...       UNH       LMT      NVDA\n",
              "FB    0.119920  0.055691  0.045128  ...  0.030726  0.021553  0.059114\n",
              "AMZN  0.055691  0.095216  0.040191  ...  0.027121  0.018683  0.056164\n",
              "AAPL  0.045128  0.040191  0.082065  ...  0.031963  0.023686  0.058257\n",
              "NFLX  0.057143  0.064078  0.035323  ...  0.030143  0.018477  0.065083\n",
              "NIO   0.096334  0.094169  0.106313  ...  0.068545  0.032828  0.126032\n",
              "SPY   0.031975  0.029232  0.032699  ...  0.029732  0.023578  0.041881\n",
              "TSLA  0.058658  0.057555  0.050954  ...  0.033688  0.018965  0.073641\n",
              "QQQ   0.044235  0.042519  0.043533  ...  0.030697  0.023320  0.054886\n",
              "SQQQ -0.131630 -0.126311 -0.129142  ... -0.090455 -0.068622 -0.162323\n",
              "SNAP  0.074134  0.057516  0.053397  ...  0.036620  0.035333  0.104290\n",
              "WM    0.018984  0.015930  0.020341  ...  0.023317  0.021480  0.025080\n",
              "JNJ   0.018577  0.017604  0.019520  ...  0.023870  0.019495  0.023058\n",
              "UNH   0.030726  0.027121  0.031963  ...  0.069039  0.025848  0.040951\n",
              "LMT   0.021553  0.018683  0.023686  ...  0.025848  0.047867  0.030337\n",
              "NVDA  0.059114  0.056164  0.058257  ...  0.040951  0.030337  0.171741\n",
              "\n",
              "[15 rows x 15 columns]"
            ]
          },
          "metadata": {
            "tags": []
          },
          "execution_count": 53
        }
      ]
    },
    {
      "cell_type": "code",
      "metadata": {
        "id": "5VFji7Ia2RmY",
        "outputId": "02ec2b57-1e3c-4a86-998f-6eb9317f4b24",
        "colab": {
          "base_uri": "https://localhost:8080/"
        }
      },
      "source": [
        "port_variance = np.dot(weights.T, np.dot(cov_matrix_annual, weights))\n",
        "port_variance"
      ],
      "execution_count": 54,
      "outputs": [
        {
          "output_type": "execute_result",
          "data": {
            "text/plain": [
              "0.035356193025138205"
            ]
          },
          "metadata": {
            "tags": []
          },
          "execution_count": 54
        }
      ]
    },
    {
      "cell_type": "code",
      "metadata": {
        "id": "05bLLZ--2Vu-",
        "outputId": "e0b92f96-3a65-47a2-90aa-8e9b719f2ead",
        "colab": {
          "base_uri": "https://localhost:8080/"
        }
      },
      "source": [
        "port_volatility = np.sqrt(port_variance)\n",
        "port_volatility"
      ],
      "execution_count": 55,
      "outputs": [
        {
          "output_type": "execute_result",
          "data": {
            "text/plain": [
              "0.18803242546204155"
            ]
          },
          "metadata": {
            "tags": []
          },
          "execution_count": 55
        }
      ]
    },
    {
      "cell_type": "code",
      "metadata": {
        "id": "cA5TT6TS2ZqG",
        "outputId": "37bc534e-e3cb-4a78-eb70-ca09e02adb2d",
        "colab": {
          "base_uri": "https://localhost:8080/"
        }
      },
      "source": [
        "portfolioSimpleAnnualReturn = np.sum(returns.mean()*weights) * 252\n",
        "portfolioSimpleAnnualReturn"
      ],
      "execution_count": 56,
      "outputs": [
        {
          "output_type": "execute_result",
          "data": {
            "text/plain": [
              "0.34683830808968785"
            ]
          },
          "metadata": {
            "tags": []
          },
          "execution_count": 56
        }
      ]
    },
    {
      "cell_type": "code",
      "metadata": {
        "id": "J7UUQ21r2d_J",
        "outputId": "67f62f53-d9f6-4122-dc76-21c65d2816b2",
        "colab": {
          "base_uri": "https://localhost:8080/"
        }
      },
      "source": [
        "percent_var = str(round(port_variance, 2) * 100) + '%'\n",
        "percent_vols = str(round(port_volatility, 2) * 100) + '%'\n",
        "percent_ret = str(round(portfolioSimpleAnnualReturn, 2)*100)+'%'\n",
        "print(\"Expected annual return : \"+ percent_ret)\n",
        "print('Annual volatility/standard deviation/risk : '+percent_vols)\n",
        "print('Annual variance : '+percent_var)"
      ],
      "execution_count": 57,
      "outputs": [
        {
          "output_type": "stream",
          "text": [
            "Expected annual return : 35.0%\n",
            "Annual volatility/standard deviation/risk : 19.0%\n",
            "Annual variance : 4.0%\n"
          ],
          "name": "stdout"
        }
      ]
    },
    {
      "cell_type": "code",
      "metadata": {
        "id": "FZxHKBy_2hhz",
        "outputId": "0eff6795-41f0-496b-b454-41134f053a83",
        "colab": {
          "base_uri": "https://localhost:8080/"
        }
      },
      "source": [
        "pip install PyPortfolioOpt"
      ],
      "execution_count": 58,
      "outputs": [
        {
          "output_type": "stream",
          "text": [
            "Requirement already satisfied: PyPortfolioOpt in /usr/local/lib/python3.6/dist-packages (1.2.7)\n",
            "Requirement already satisfied: pandas>=0.19 in /usr/local/lib/python3.6/dist-packages (from PyPortfolioOpt) (1.1.4)\n",
            "Requirement already satisfied: cvxopt<2.0,>=1.2 in /usr/local/lib/python3.6/dist-packages (from PyPortfolioOpt) (1.2.5)\n",
            "Requirement already satisfied: scipy<2.0,>=1.3 in /usr/local/lib/python3.6/dist-packages (from PyPortfolioOpt) (1.4.1)\n",
            "Requirement already satisfied: numpy<2.0,>=1.12 in /usr/local/lib/python3.6/dist-packages (from PyPortfolioOpt) (1.18.5)\n",
            "Requirement already satisfied: cvxpy<2.0,>=1.0 in /usr/local/lib/python3.6/dist-packages (from PyPortfolioOpt) (1.0.31)\n",
            "Requirement already satisfied: python-dateutil>=2.7.3 in /usr/local/lib/python3.6/dist-packages (from pandas>=0.19->PyPortfolioOpt) (2.8.1)\n",
            "Requirement already satisfied: pytz>=2017.2 in /usr/local/lib/python3.6/dist-packages (from pandas>=0.19->PyPortfolioOpt) (2018.9)\n",
            "Requirement already satisfied: osqp>=0.4.1 in /usr/local/lib/python3.6/dist-packages (from cvxpy<2.0,>=1.0->PyPortfolioOpt) (0.6.1)\n",
            "Requirement already satisfied: multiprocess in /usr/local/lib/python3.6/dist-packages (from cvxpy<2.0,>=1.0->PyPortfolioOpt) (0.70.10)\n",
            "Requirement already satisfied: scs>=1.1.3 in /usr/local/lib/python3.6/dist-packages (from cvxpy<2.0,>=1.0->PyPortfolioOpt) (2.1.2)\n",
            "Requirement already satisfied: ecos>=2 in /usr/local/lib/python3.6/dist-packages (from cvxpy<2.0,>=1.0->PyPortfolioOpt) (2.0.7.post1)\n",
            "Requirement already satisfied: six>=1.5 in /usr/local/lib/python3.6/dist-packages (from python-dateutil>=2.7.3->pandas>=0.19->PyPortfolioOpt) (1.15.0)\n",
            "Requirement already satisfied: future in /usr/local/lib/python3.6/dist-packages (from osqp>=0.4.1->cvxpy<2.0,>=1.0->PyPortfolioOpt) (0.16.0)\n",
            "Requirement already satisfied: dill>=0.3.2 in /usr/local/lib/python3.6/dist-packages (from multiprocess->cvxpy<2.0,>=1.0->PyPortfolioOpt) (0.3.3)\n"
          ],
          "name": "stdout"
        }
      ]
    },
    {
      "cell_type": "code",
      "metadata": {
        "id": "M1yBAy0Y2orX"
      },
      "source": [
        "from pypfopt.efficient_frontier import EfficientFrontier\n",
        "from pypfopt import risk_models\n",
        "from pypfopt import expected_returns"
      ],
      "execution_count": 59,
      "outputs": []
    },
    {
      "cell_type": "code",
      "metadata": {
        "id": "MPrYF2Ny2v1S"
      },
      "source": [
        "mu = expected_returns.mean_historical_return(df)#returns.mean() * 252\n",
        "S = risk_models.sample_cov(df) #Get the sample covariance matrix"
      ],
      "execution_count": 60,
      "outputs": []
    },
    {
      "cell_type": "code",
      "metadata": {
        "id": "9wKVsB412zjn",
        "outputId": "93a3d5e7-3546-43e6-8da7-928be1ba88c3",
        "colab": {
          "base_uri": "https://localhost:8080/"
        }
      },
      "source": [
        "ef = EfficientFrontier(mu, S)\n",
        "weights = ef.max_sharpe() #Maximize the Sharpe ratio, and get the raw weights\n",
        "cleaned_weights = ef.clean_weights() \n",
        "print(cleaned_weights) #Note the weights may have some rounding error, meaning they may not add up exactly to 1 but should be close\n",
        "ef.portfolio_performance(verbose=True)"
      ],
      "execution_count": 61,
      "outputs": [
        {
          "output_type": "stream",
          "text": [
            "OrderedDict([('FB', 0.04237), ('AMZN', 0.09326), ('AAPL', 0.10166), ('NFLX', 0.04583), ('NIO', 0.01669), ('SPY', 0.0), ('TSLA', 0.03275), ('QQQ', 0.09759), ('SQQQ', 0.22502), ('SNAP', 0.0), ('WM', 0.10506), ('JNJ', 0.02868), ('UNH', 0.05133), ('LMT', 0.07455), ('NVDA', 0.08523)])\n",
            "Expected annual return: 15.7%\n",
            "Annual volatility: 5.3%\n",
            "Sharpe Ratio: 2.60\n"
          ],
          "name": "stdout"
        },
        {
          "output_type": "execute_result",
          "data": {
            "text/plain": [
              "(0.1571074852887862, 0.05273170613674349, 2.6000957551655937)"
            ]
          },
          "metadata": {
            "tags": []
          },
          "execution_count": 61
        }
      ]
    },
    {
      "cell_type": "code",
      "metadata": {
        "id": "VuZ4Cjdp3K_T",
        "outputId": "6b603721-e133-4bb2-8c95-52e4442cfe11",
        "colab": {
          "base_uri": "https://localhost:8080/"
        }
      },
      "source": [
        "pip install pulp"
      ],
      "execution_count": 62,
      "outputs": [
        {
          "output_type": "stream",
          "text": [
            "Requirement already satisfied: pulp in /usr/local/lib/python3.6/dist-packages (2.3.1)\n",
            "Requirement already satisfied: amply>=0.1.2 in /usr/local/lib/python3.6/dist-packages (from pulp) (0.1.4)\n",
            "Requirement already satisfied: docutils>=0.3 in /usr/local/lib/python3.6/dist-packages (from amply>=0.1.2->pulp) (0.16)\n",
            "Requirement already satisfied: pyparsing in /usr/local/lib/python3.6/dist-packages (from amply>=0.1.2->pulp) (2.4.7)\n"
          ],
          "name": "stdout"
        }
      ]
    },
    {
      "cell_type": "code",
      "metadata": {
        "id": "MJ-PiAwU3Ofy",
        "outputId": "1acc09d1-6a3c-4bb1-d02a-5c0b4ecdb349",
        "colab": {
          "base_uri": "https://localhost:8080/"
        }
      },
      "source": [
        "from pypfopt.discrete_allocation import DiscreteAllocation, get_latest_prices\n",
        "latest_prices = get_latest_prices(df)\n",
        "weights = cleaned_weights \n",
        "da = DiscreteAllocation(weights, latest_prices, total_portfolio_value=20000)\n",
        "allocation, leftover = da.lp_portfolio()\n",
        "print(\"Discrete allocation:\", allocation)\n",
        "print(\"Funds remaining: ${:.2f}\".format(leftover))"
      ],
      "execution_count": 65,
      "outputs": [
        {
          "output_type": "stream",
          "text": [
            "Discrete allocation: {'FB': 3, 'AMZN': 1, 'AAPL': 17, 'NFLX': 1, 'NIO': 7, 'TSLA': 1, 'QQQ': 6, 'SQQQ': 223, 'WM': 17, 'JNJ': 3, 'UNH': 3, 'LMT': 4, 'NVDA': 3}\n",
            "Funds remaining: $0.73\n"
          ],
          "name": "stdout"
        }
      ]
    }
  ]
}